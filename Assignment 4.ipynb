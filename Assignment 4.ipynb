{
 "cells": [
  {
   "cell_type": "markdown",
   "metadata": {},
   "source": [
    "#### Problem 1\n",
    "Which two operator overloading methods can you use in your classes to support iteration?\n",
    "\n",
    "Answer:<br>\n",
    "\\__iter\\__() and \\__next\\__() are two operator overloading methods that can be used in classes to support iteration."
   ]
  },
  {
   "cell_type": "markdown",
   "metadata": {},
   "source": [
    "#### Problem 2\n",
    "In what contexts do the two operator overloading methods manage printing?\n",
    "\n",
    "Answer:<br>\n",
    "The \\__iter\\__() function returns an iterator object that goes through the each element of the given object. The next element can be accessed through \\__next\\__() function. In the case of callable object and sentinel value, the iteration is done until the value is found or the end of elements reached.<br>\n",
    "Example:"
   ]
  },
  {
   "cell_type": "code",
   "execution_count": 2,
   "metadata": {},
   "outputs": [
    {
     "name": "stdout",
     "output_type": "stream",
     "text": [
      "a\n",
      "e\n",
      "i\n",
      "o\n",
      "u\n"
     ]
    }
   ],
   "source": [
    "listA = ['a','e','i','o','u']\n",
    "  \n",
    "iter_listA = iter(listA)\n",
    "  \n",
    "try:\n",
    "    print( next(iter_listA)) \n",
    "    print( next(iter_listA)) \n",
    "    print( next(iter_listA)) \n",
    "    print( next(iter_listA)) \n",
    "    print( next(iter_listA))\n",
    "    print( next(iter_listA)) #StopIteration error\n",
    "except:\n",
    "    pass"
   ]
  },
  {
   "cell_type": "markdown",
   "metadata": {},
   "source": [
    "#### Problem 3\n",
    "In a class, how do you intercept slice operations?\n",
    "\n",
    "Answer:<br>\n",
    "\\__getitem\\__(slice(start, stop, step))"
   ]
  },
  {
   "cell_type": "markdown",
   "metadata": {},
   "source": [
    "#### Problem 4\n",
    "In a class, how do you capture in-place addition?\n",
    "\n",
    "Answer:<br>\n",
    "1. iadd() :- This function is used to assign and add the current value. This operation does “a+=b” operation. Assigning is not performed in case of immutable containers, such as strings, numbers and tuples.\n",
    "\n",
    "2. iconcat() :- This function is used to concat one string at end of second.\n",
    "\n",
    "Example:"
   ]
  },
  {
   "cell_type": "code",
   "execution_count": 4,
   "metadata": {},
   "outputs": [
    {
     "name": "stdout",
     "output_type": "stream",
     "text": [
      "x::  5\n",
      "y::  inueronassignments\n"
     ]
    }
   ],
   "source": [
    "import operator\n",
    "\n",
    "x = operator.iadd(2, 3);\n",
    "print('x:: ',x)\n",
    "  \n",
    "# initializing values\n",
    "y = \"inueron\"\n",
    "  \n",
    "z = \"assignments\"\n",
    "  \n",
    "y = operator.iconcat(y, z)\n",
    "  \n",
    "print('y:: ',y)"
   ]
  },
  {
   "cell_type": "markdown",
   "metadata": {},
   "source": [
    "#### Problem 5\n",
    "When is it appropriate to use operator overloading?\n",
    "\n",
    "Answer:<br>\n",
    "Operator overloading enables programmers to use notation closer to the target domain. Operator overloading provides similar support to built-in types of user-defined types. Operator overloading makes the program easier to understand."
   ]
  }
 ],
 "metadata": {
  "kernelspec": {
   "display_name": "Python 3",
   "language": "python",
   "name": "python3"
  },
  "language_info": {
   "codemirror_mode": {
    "name": "ipython",
    "version": 3
   },
   "file_extension": ".py",
   "mimetype": "text/x-python",
   "name": "python",
   "nbconvert_exporter": "python",
   "pygments_lexer": "ipython3",
   "version": "3.7.7"
  }
 },
 "nbformat": 4,
 "nbformat_minor": 4
}
