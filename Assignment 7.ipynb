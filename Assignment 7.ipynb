{
 "cells": [
  {
   "cell_type": "markdown",
   "metadata": {},
   "source": [
    "#### Problem 1\n",
    "What is the purpose of the try statement?\n",
    "\n",
    "Answer:<br>\n",
    "The try statement allows one to define a block of code to be tested for errors while it is being executed. "
   ]
  },
  {
   "cell_type": "markdown",
   "metadata": {},
   "source": [
    "#### Problem 2\n",
    "What are the two most popular try statement variations?\n",
    "\n",
    "Answer:<br>\n",
    "KeyboardInterrupt : when an unrequired key is pressed by the user.<br>\n",
    "ValueError : when built-in function receives a wrong argument. EOFError : if End-Of-File is hit without reading any data."
   ]
  },
  {
   "cell_type": "markdown",
   "metadata": {},
   "source": [
    "#### Problem 3\n",
    "What is the purpose of the raise statement?\n",
    "\n",
    "Answer:<br>\n",
    "The raise keyword is used to raise an exception. We can define what kind of error to raise, and the text to print to the user."
   ]
  },
  {
   "cell_type": "markdown",
   "metadata": {},
   "source": [
    "#### Problem 4\n",
    "What does the assert statement do, and what other statement is it like?\n",
    "\n",
    "Answer:<br>\n",
    "assert statement has a condition and if the condition is not satisfied the program will stop and give AssertionError . assert statement can also have a condition and a optional error message. If the condition is not satisfied assert stops the program and gives AssertionError along with the error message."
   ]
  },
  {
   "cell_type": "markdown",
   "metadata": {},
   "source": [
    "#### Problem 5\n",
    "What is the purpose of the with/as argument, and what other statement is it like?\n",
    "\n",
    "Answer:<br>\n",
    "With statement in Python is used in exception handling to make the code cleaner and much more readable. It simplifies the management of common resources like file streams. Observe the following code example on how the use of with statement makes code cleaner."
   ]
  }
 ],
 "metadata": {
  "kernelspec": {
   "display_name": "Python 3",
   "language": "python",
   "name": "python3"
  },
  "language_info": {
   "codemirror_mode": {
    "name": "ipython",
    "version": 3
   },
   "file_extension": ".py",
   "mimetype": "text/x-python",
   "name": "python",
   "nbconvert_exporter": "python",
   "pygments_lexer": "ipython3",
   "version": "3.7.7"
  }
 },
 "nbformat": 4,
 "nbformat_minor": 4
}
