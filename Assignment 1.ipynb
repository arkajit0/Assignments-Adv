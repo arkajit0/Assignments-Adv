{
 "cells": [
  {
   "cell_type": "markdown",
   "metadata": {},
   "source": [
    "#### Problem 1\n",
    "What is the purpose of Python&#39;s OOP?\n",
    "\n",
    "Answer:<br>\n",
    "Developers often choose to use OOP in their Python programs because it makes code more reusable and makes it easier to work with larger programs. OOP programs prevent one from repeating code because a class can be defined once and reused many times."
   ]
  },
  {
   "cell_type": "markdown",
   "metadata": {},
   "source": [
    "#### Problem 2\n",
    "Where does an inheritance search look for an attribute?\n",
    "\n",
    "Answer:<br>\n",
    "All of these objects are namespaces (packages of variables), and the inheritance search is simply a search of the tree from bottom to top looking for the lowest occurrence of an attribute name."
   ]
  },
  {
   "cell_type": "markdown",
   "metadata": {},
   "source": [
    "#### Problem 3\n",
    "How do you distinguish between a class object and an instance object?\n",
    "\n",
    "Answer:<br>\n",
    "An instance is a specific representation of an object. An object is a generic thing while an instance is a single object that has been created in memory. Memory allocated for the member of class at run time is called object or object is the instance of Class."
   ]
  },
  {
   "cell_type": "markdown",
   "metadata": {},
   "source": [
    "#### Problem 4\n",
    "What makes the first argument in a class’s method function special?\n",
    "\n",
    "Answer:<br>\n",
    "It automatically receives a special first argument, self, that provides a handle back to the instance to be processed. Methods with two underscores at the start and end of names are special methods. The \\__init\\__() method is called immediately after an instance of the class is created."
   ]
  },
  {
   "cell_type": "markdown",
   "metadata": {},
   "source": [
    "#### Problem 5\n",
    "What is the purpose of the \\__init\\__ method?\n",
    "\n",
    "Answer:<br>\n",
    "\"\\__init\\__\" is a reseved method in python classes. It is called as a constructor in object oriented terminology. This method is called when an object is created from a class and it allows the class to initialize the attributes of the class."
   ]
  },
  {
   "cell_type": "markdown",
   "metadata": {},
   "source": [
    "#### Problem 6\n",
    "What is the process for creating a class instance?\n",
    "\n",
    "Answer:<br>\n",
    "When we create an object, we are creating an instance of a class, therefore \"instantiating\" a class. The new operator requires a single, postfix argument: a call to a constructor. The name of the constructor provides the name of the class to instantiate. The constructor initializes the new object."
   ]
  },
  {
   "cell_type": "markdown",
   "metadata": {},
   "source": [
    "#### Problem 7\n",
    "What is the process for creating a class?\n",
    "\n",
    "Answer:<br>\n",
    "To create a class, we use the keyword class<br>\n",
    "Example:<br>\n",
    "\n",
    "class Myclass:<br>\n",
    "    name=\"Aj\""
   ]
  },
  {
   "cell_type": "markdown",
   "metadata": {},
   "source": [
    "#### Problem 8\n",
    "How would you define the superclasses of a class?\n",
    "\n",
    "Answer:<br>\n",
    "classes can be derived from other classes. The derived class (the class that is derived from another class) is called a subclass. The class from which it's derived is called the superclass."
   ]
  }
 ],
 "metadata": {
  "kernelspec": {
   "display_name": "Python 3",
   "language": "python",
   "name": "python3"
  },
  "language_info": {
   "codemirror_mode": {
    "name": "ipython",
    "version": 3
   },
   "file_extension": ".py",
   "mimetype": "text/x-python",
   "name": "python",
   "nbconvert_exporter": "python",
   "pygments_lexer": "ipython3",
   "version": "3.7.7"
  }
 },
 "nbformat": 4,
 "nbformat_minor": 4
}
