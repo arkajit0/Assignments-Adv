{
 "cells": [
  {
   "cell_type": "markdown",
   "metadata": {},
   "source": [
    "#### Problem 1\n",
    "What is the concept of an abstract superclass?\n",
    "\n",
    "Answer:<br>\n",
    "Abstract Super Class: A common superclass for several subclasses. Factor up common behavior. Define the methods they all respond to. Methods that subclasses should implement are declared abstract."
   ]
  },
  {
   "cell_type": "markdown",
   "metadata": {},
   "source": [
    "#### Problem 2\n",
    "What happens when a class statement&#39;s top level contains a basic assignment statement?\n",
    "\n",
    "Answer:<br>\n",
    "If no other name is specified, and the module being imported is a top level module, the module’s name is bound in the local namespace as a reference to the imported module"
   ]
  },
  {
   "cell_type": "markdown",
   "metadata": {},
   "source": [
    "#### Problem 3\n",
    "Why does a class need to manually call a superclass&#39;s \\__init\\__ method?\n",
    "\n",
    "Answer:<br>\n",
    "At a fairly abstract level, super() provides the access to those methods of the super-class (parent class) which have been overridden in a sub-class (child class) that inherits from it. "
   ]
  },
  {
   "cell_type": "markdown",
   "metadata": {},
   "source": [
    "#### Problem 4\n",
    "How can you augment, instead of completely replacing, an inherited method?\n",
    "\n",
    "Answer:<br>\n",
    "Using super().\\__init\\__(arg) we can augment, instead of completely replacing, an inherited method.<br>\n",
    "\n",
    "Example:"
   ]
  },
  {
   "cell_type": "code",
   "execution_count": 11,
   "metadata": {},
   "outputs": [
    {
     "name": "stdout",
     "output_type": "stream",
     "text": [
      "B is assisted by Prof. A in class 8\n"
     ]
    }
   ],
   "source": [
    "class Teacher:\n",
    "    def __init__(self, id_no, name):\n",
    "        self.id_no = id_no\n",
    "        self.name = name\n",
    "        \n",
    "class Student(Teacher):\n",
    "    def __init__(self, id_no, name, student_name):\n",
    "        super().__init__(id_no, name)\n",
    "        self.student_name = student_name\n",
    "        \n",
    "    def assist(self):\n",
    "        response = \"{2} is assisted by {1} in class {0}\".format(self.id_no, self.name, self.student_name)\n",
    "        return response\n",
    "\n",
    "#creating instance of class\n",
    "obj = Student(\"8\", \"Prof. A\", \"B\")\n",
    "\n",
    "#result\n",
    "print(obj.assist())"
   ]
  },
  {
   "cell_type": "markdown",
   "metadata": {},
   "source": [
    "#### Problem 5\n",
    "How is the local scope of a class different from that of a function?\n",
    "\n",
    "Answer:<br>\n",
    "All methods in the class can access the variable declared in class but the variable inside the function has only use in that function only and can't be access by any other functions or class."
   ]
  }
 ],
 "metadata": {
  "kernelspec": {
   "display_name": "Python 3",
   "language": "python",
   "name": "python3"
  },
  "language_info": {
   "codemirror_mode": {
    "name": "ipython",
    "version": 3
   },
   "file_extension": ".py",
   "mimetype": "text/x-python",
   "name": "python",
   "nbconvert_exporter": "python",
   "pygments_lexer": "ipython3",
   "version": "3.7.7"
  }
 },
 "nbformat": 4,
 "nbformat_minor": 4
}
