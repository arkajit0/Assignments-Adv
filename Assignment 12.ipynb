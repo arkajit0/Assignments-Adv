{
 "cells": [
  {
   "cell_type": "markdown",
   "metadata": {},
   "source": [
    "#### Problem 1\n",
    "Does assigning a value to a string&#39;s indexed character violate Python&#39;s string immutability?\n",
    "\n",
    "Answer:<br>\n",
    "Yes, string is immutable so assigning a value to a string&#39;s indexed character violate Python&#39;s string immutability."
   ]
  },
  {
   "cell_type": "markdown",
   "metadata": {},
   "source": [
    "#### Problem 2\n",
    "Does using the += operator to concatenate strings violate Python&#39;s string immutability? Why or\n",
    "why not?\n",
    "\n",
    "Answer:<br>\n",
    "No, using the += operator to concatenate strings doesn't violate Python&#39;s string immutability.<br>\n",
    "when you do a + , += or concat(String) , a new String is generated. The bigger the String gets the longer it takes - there is more to copy and more garbage is produced. "
   ]
  },
  {
   "cell_type": "code",
   "execution_count": 7,
   "metadata": {},
   "outputs": [
    {
     "data": {
      "text/plain": [
       "'iNueron'"
      ]
     },
     "execution_count": 7,
     "metadata": {},
     "output_type": "execute_result"
    }
   ],
   "source": [
    "empty_string = \"\"\n",
    "string_var = \"inueron\"\n",
    "\n",
    "for index in range(len(string_var)):\n",
    "    if index==1:\n",
    "        position = \"N\"\n",
    "    else:\n",
    "        position = string_var[index]\n",
    "    empty_string += position\n",
    "empty_string"
   ]
  },
  {
   "cell_type": "markdown",
   "metadata": {},
   "source": [
    "#### problem 3\n",
    "In Python, how many different ways are there to index a character?\n",
    "\n",
    "Answer:<br>\n",
    "We can access characters in a String in Two ways : Accessing Characters by Positive Index Number. Accessing Characters by Negative Index Number."
   ]
  },
  {
   "cell_type": "markdown",
   "metadata": {},
   "source": [
    "#### Problem 4\n",
    "What is the relationship between indexing and slicing?\n",
    "\n",
    "Answer:<br>\n",
    "Indexing means referring to an element of an iterable by its position within the iterable. Slicing means getting a subset of elements from an iterable based on their indices."
   ]
  },
  {
   "cell_type": "markdown",
   "metadata": {},
   "source": [
    "#### Problem 5\n",
    "What is an indexed character&#39;s exact data type? What is the data form of a slicing-generated\n",
    "substring?\n",
    "\n",
    "Answer:<br>\n",
    "The indexed character exact data type in string(str).<br>\n",
    "Data form of a slicing-generated substring is string(str)."
   ]
  },
  {
   "cell_type": "markdown",
   "metadata": {},
   "source": [
    "#### Problem 6\n",
    "What is the relationship between string and character &quot;types&quot; in Python?\n",
    "\n",
    "Answer:<br>\n",
    "Python doesn't have any character data type. A single character is also represented as string."
   ]
  },
  {
   "cell_type": "markdown",
   "metadata": {},
   "source": [
    "#### Problem 7\n",
    "Identify at least two operators and one method that allow you to combine one or more smaller\n",
    "strings to create a larger string.\n",
    "\n",
    "Answer:<br>\n",
    "- Using + operator and % operator we can combine one or more smaller strings to create a larger string.\n",
    "- Using join() method we can combine one or more smaller strings to create a larger string."
   ]
  },
  {
   "cell_type": "markdown",
   "metadata": {},
   "source": [
    "#### Problem 8\n",
    "What is the benefit of first checking the target string with in or not in before using the index\n",
    "method to find a substring?\n",
    "\n",
    "Answer:<br>\n",
    "To avoid IndexError we use checking first."
   ]
  },
  {
   "cell_type": "markdown",
   "metadata": {},
   "source": [
    "#### Problem 9\n",
    "Which operators and built-in string methods produce simple Boolean (true/false) results?\n",
    "\n",
    "Answer:<br>\n",
    "- str.isalnum()\tString consists of only alphanumeric characters (no symbols)\n",
    "- str.isalpha()\tString consists of only alphabetic characters (no symbols)\n",
    "- str.islower()\tString’s alphabetic characters are all lower case\n",
    "- str.isnumeric()\tString consists of only numeric characters\n",
    "- str.isspace()\tString consists of only whitespace characters\n",
    "- str.istitle()\tString is in title case\n",
    "- str.isupper()\tString’s alphabetic characters are all upper case"
   ]
  }
 ],
 "metadata": {
  "kernelspec": {
   "display_name": "Python 3",
   "language": "python",
   "name": "python3"
  },
  "language_info": {
   "codemirror_mode": {
    "name": "ipython",
    "version": 3
   },
   "file_extension": ".py",
   "mimetype": "text/x-python",
   "name": "python",
   "nbconvert_exporter": "python",
   "pygments_lexer": "ipython3",
   "version": "3.7.7"
  }
 },
 "nbformat": 4,
 "nbformat_minor": 4
}
