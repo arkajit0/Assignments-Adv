{
 "cells": [
  {
   "cell_type": "markdown",
   "metadata": {},
   "source": [
    "#### Problem 1\n",
    "What is the relationship between classes and modules?\n",
    "\n",
    "Answer:<br>\n",
    "Basically, a class can be instantiated but a module cannot. A module will never be anything other than a library of methods. A class can be so much more -- it can hold its state (by keeping track of instance variables) and be duplicated as many times as we want."
   ]
  },
  {
   "cell_type": "markdown",
   "metadata": {},
   "source": [
    "#### Problem 2\n",
    "How do you make instances and classes?\n",
    "\n",
    "Answer:<br>\n",
    "To create instances of a class, we call the class using class name and pass in whatever arguments its \\__init\\__ method accepts."
   ]
  },
  {
   "cell_type": "markdown",
   "metadata": {},
   "source": [
    "#### Problem 3\n",
    "Where and how should be class attributes created?\n",
    "\n",
    "Answer:<br>\n",
    "Class attributes belong to the class itself they will be shared by all the instances. Such attributes are defined in the class body parts usually at the top, for legibility."
   ]
  },
  {
   "cell_type": "markdown",
   "metadata": {},
   "source": [
    "#### Problem 4\n",
    "Where and how are instance attributes created?\n",
    "\n",
    "Answer:<br>\n",
    "An instance attribute is a Python variable belonging to only one object. It is only accessible in the scope of the object and it is defined inside the constructor function of a class. For example, \\__init\\__(self,..)."
   ]
  },
  {
   "cell_type": "markdown",
   "metadata": {},
   "source": [
    "#### Problem 5\n",
    "What does the term &quot;self&quot; in a Python class mean?\n",
    "\n",
    "Answer:<br>\n",
    "The self parameter is a reference to the current instance of the class, and is used to access variables that belongs to the class."
   ]
  },
  {
   "cell_type": "markdown",
   "metadata": {},
   "source": [
    "#### Problem 6\n",
    "How does a Python class handle operator overloading?\n",
    "\n",
    "Answer:<br>\n",
    "Python operators work for built-in classes. ... For example, the + operator will perform arithmetic addition on two numbers, merge two lists, or concatenate two strings. This feature in Python that allows the same operator to have different meaning according to the context is called operator overloading."
   ]
  },
  {
   "cell_type": "markdown",
   "metadata": {},
   "source": [
    "#### Problem 7\n",
    "When do you consider allowing operator overloading of your classes?\n",
    "\n",
    "Answer:<br>\n",
    "To perform operator overloading, Python provides some special function or magic function that is automatically invoked when it is associated with that particular operator."
   ]
  },
  {
   "cell_type": "markdown",
   "metadata": {},
   "source": [
    "#### Problem 8\n",
    "What is the most popular form of operator overloading?\n",
    "\n",
    "Answer:<br>\n",
    "The + operator will perform arithmetic addition on two numbers, merge two lists, or concatenate two strings. This feature in Python that allows the same operator to have different meaning according to the context is called operator overloading."
   ]
  },
  {
   "cell_type": "markdown",
   "metadata": {},
   "source": [
    "#### Problem 9\n",
    "What are the two most important concepts to grasp in order to comprehend Python OOP code?\n",
    "\n",
    "Answer:<br>\n",
    "Inheritance and Encapsulation are the two most important concepts to grasp in order to comprehend Python OOP code."
   ]
  }
 ],
 "metadata": {
  "kernelspec": {
   "display_name": "Python 3",
   "language": "python",
   "name": "python3"
  },
  "language_info": {
   "codemirror_mode": {
    "name": "ipython",
    "version": 3
   },
   "file_extension": ".py",
   "mimetype": "text/x-python",
   "name": "python",
   "nbconvert_exporter": "python",
   "pygments_lexer": "ipython3",
   "version": "3.7.7"
  }
 },
 "nbformat": 4,
 "nbformat_minor": 4
}
