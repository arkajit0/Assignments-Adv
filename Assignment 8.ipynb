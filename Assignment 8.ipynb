{
 "cells": [
  {
   "cell_type": "markdown",
   "metadata": {},
   "source": [
    "#### Problem 1\n",
    "What are the two latest user-defined exception constraints in Python 3.X?\n",
    "\n",
    "Answer:<br>\n",
    "class base exceptions and raise exceptions are the two latest user-defined exception constraints in Python 3.X."
   ]
  },
  {
   "cell_type": "markdown",
   "metadata": {},
   "source": [
    "#### Problem 2\n",
    "How are class-based exceptions that have been raised matched to handlers?\n",
    "\n",
    "Answer:<br>\n",
    "The exceptions that can be handled are class-based and can be handled between TRY and ENDTRY. The associated exception classes are predefined in the system and begin with the prefix CX_SY_, such as CX_SY_ZERODIVIDE. In the ABAP keyword documentation, the exception classes whose exceptions may occur when a corresponding ABAP statement is executed are listed for each keyword. "
   ]
  },
  {
   "cell_type": "markdown",
   "metadata": {},
   "source": [
    "#### Problem 3\n",
    "Describe two methods for attaching context information to exception artefacts.\n",
    "\n",
    "Answer:<br>\n",
    "This PEP proposes three standard attributes on exception instances: the \\__context\\__ attribute for implicitly chained exceptions, the \\__cause\\__ attribute for explicitly chained exceptions, and the \\__traceback\\__ attribute for the traceback. "
   ]
  },
  {
   "cell_type": "markdown",
   "metadata": {},
   "source": [
    "#### Problem 4\n",
    "Describe two methods for specifying the text of an exception object&#39;s error message.\n",
    "\n",
    "Answer:<br>\n",
    "1. Print the exception as a variable. <br>\n",
    "Eg: except Exception as e:\n",
    "        print(e)\n",
    "\n",
    "2. Raise exception using raise."
   ]
  },
  {
   "cell_type": "markdown",
   "metadata": {},
   "source": [
    "#### Problem 5\n",
    "Why do you no longer use string-based exceptions?\n",
    "\n",
    "Answer:<br>\n",
    "It should be noted that just using str will return an empty string if there's no error message whereas using repr as pyfunc recommends will at least display the class of the exception."
   ]
  }
 ],
 "metadata": {
  "kernelspec": {
   "display_name": "Python 3",
   "language": "python",
   "name": "python3"
  },
  "language_info": {
   "codemirror_mode": {
    "name": "ipython",
    "version": 3
   },
   "file_extension": ".py",
   "mimetype": "text/x-python",
   "name": "python",
   "nbconvert_exporter": "python",
   "pygments_lexer": "ipython3",
   "version": "3.7.7"
  }
 },
 "nbformat": 4,
 "nbformat_minor": 4
}
